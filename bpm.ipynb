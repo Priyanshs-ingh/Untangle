{
 "cells": [
  {
   "cell_type": "code",
   "execution_count": 1,
   "metadata": {},
   "outputs": [],
   "source": [
    "import librosa as lb\n",
    "import numpy as np\n",
    "import matplotlib.pyplot as plt\n",
    "import pandas as pd\n",
    "import os"
   ]
  },
  {
   "cell_type": "code",
   "execution_count": null,
   "metadata": {},
   "outputs": [
    {
     "data": {
      "text/plain": [
       "array([107.66601562])"
      ]
     },
     "execution_count": 4,
     "metadata": {},
     "output_type": "execute_result"
    }
   ],
   "source": [
    "def calculate_bpm(audio_path):\n",
    "    y, sr = lb.load(audio_path)\n",
    "    onset_env = lb.onset.onset_strength(y=y, sr=sr)\n",
    "    tempo, _ = lb.beat.beat_track(onset_envelope=onset_env, sr=sr)\n",
    "    return tempo\n",
    "\n",
    "bpm = calculate_bpm('./goat.mp3')\n",
    "bpm"
   ]
  },
  {
   "cell_type": "code",
   "execution_count": null,
   "metadata": {},
   "outputs": [],
   "source": [
    "def calc_speed(bpm, changed_bpm):\n",
    "    return changed_bpm/bpm"
   ]
  },
  {
   "cell_type": "code",
   "execution_count": null,
   "metadata": {},
   "outputs": [],
   "source": [
    "def change_speed_and_pitch(audio_path, speed_factor, output_path):\n",
    "    \n",
    "    # Change speed (tempo) but keep pitch\n",
    "    y_fast = lb.effects.time_stretch(y, rate=speed_factor)\n",
    "    \n",
    "    sf.write(output_path, y_fast, sr)\n",
    "    print(f\"Processed file saved at {output_path}\")\n",
    "\n",
    "# Example Usage\n",
    "changed_bpm = bpm * 1.5\n",
    "change_speed_and_pitch(\"input.mp3\", calc_speed(bpm, changed_bpm), \"output_fixed.mp3\")  # 1.2x speed"
   ]
  },
  {
   "cell_type": "code",
   "execution_count": null,
   "metadata": {},
   "outputs": [],
   "source": [
    "def change_speed_and_pitch(audio_data, sr, speed_factor):\n",
    "    \"\"\"\n",
    "    Changes the speed of audio data without saving to file\n",
    "    Parameters:\n",
    "        audio_data: numpy array of audio samples\n",
    "        sr: sample rate\n",
    "        speed_factor: factor to change speed (e.g., 1.2 for 20% faster)\n",
    "    Returns:\n",
    "        processed audio data as numpy array\n",
    "    \"\"\"\n",
    "    # Change speed (tempo) but keep pitch\n",
    "    y_processed = lb.effects.time_stretch(audio_data, rate=speed_factor)\n",
    "    \n",
    "    return y_processed, sr"
   ]
  },
  {
   "cell_type": "code",
   "execution_count": null,
   "metadata": {},
   "outputs": [],
   "source": [
    "# Load audio once\n",
    "y, sr = lb.load(\"input.mp3\")\n",
    "\n",
    "# Process audio when speed change is requested (e.g., from a slider in UI)\n",
    "def on_speed_change(speed_factor):\n",
    "    processed_audio, sr = change_speed_and_pitch(y, sr, speed_factor)\n",
    "    # Here you would send processed_audio to your audio playback system\n",
    "    return processed_audio"
   ]
  }
 ],
 "metadata": {
  "kernelspec": {
   "display_name": "Python 3",
   "language": "python",
   "name": "python3"
  },
  "language_info": {
   "codemirror_mode": {
    "name": "ipython",
    "version": 3
   },
   "file_extension": ".py",
   "mimetype": "text/x-python",
   "name": "python",
   "nbconvert_exporter": "python",
   "pygments_lexer": "ipython3",
   "version": "3.12.3"
  }
 },
 "nbformat": 4,
 "nbformat_minor": 2
}
