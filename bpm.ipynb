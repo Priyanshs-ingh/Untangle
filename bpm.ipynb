{
 "cells": [
  {
   "cell_type": "code",
   "execution_count": null,
   "metadata": {},
   "outputs": [],
   "source": [
    "import librosa as lb\n",
    "import numpy as np\n",
    "import matplotlib.pyplot as plt\n",
    "import pandas as pd\n",
    "import os\n",
    "import soundfile as sf\n",
    "from scipy.stats import pearsonr"
   ]
  },
  {
   "cell_type": "code",
   "execution_count": 2,
   "metadata": {},
   "outputs": [],
   "source": [
    "y, sr = lb.load('./goat.mp3')"
   ]
  },
  {
   "cell_type": "code",
   "execution_count": 3,
   "metadata": {},
   "outputs": [
    {
     "data": {
      "text/plain": [
       "107.666015625"
      ]
     },
     "execution_count": 3,
     "metadata": {},
     "output_type": "execute_result"
    }
   ],
   "source": [
    "def calculate_bpm(audio_path):\n",
    "    \n",
    "    onset_env = lb.onset.onset_strength(y=y, sr=sr)\n",
    "    tempo, _ = lb.beat.beat_track(onset_envelope=onset_env, sr=sr)\n",
    "    return tempo[0]\n",
    "\n",
    "bpm = calculate_bpm(y)\n",
    "bpm"
   ]
  },
  {
   "cell_type": "code",
   "execution_count": 4,
   "metadata": {},
   "outputs": [],
   "source": [
    "def calc_speed(bpm, changed_bpm):\n",
    "    return changed_bpm/bpm"
   ]
  },
  {
   "cell_type": "code",
   "execution_count": null,
   "metadata": {},
   "outputs": [
    {
     "name": "stdout",
     "output_type": "stream",
     "text": [
      "Processed file saved at ./moreslo_goat.mp3\n"
     ]
    }
   ],
   "source": [
    "def change_speed_and_pitch(audio_path, speed_factor, output_path):\n",
    "\n",
    "    # Change speed (tempo) but keep pitch\n",
    "    y_fast = lb.effects.time_stretch(y, rate=speed_factor)\n",
    "\n",
    "    # Save the processed file\n",
    "    sf.write(output_path, y_fast, sr)\n",
    "    print(f\"Processed file saved at {output_path}\")\n",
    "\n",
    "change_speed_and_pitch('./goat.mp3', calc_speed(bpm, 26), './moreslo_goat.mp3')"
   ]
  },
  {
   "cell_type": "code",
   "execution_count": null,
   "metadata": {},
   "outputs": [],
   "source": [
    "def pitch_shift(audio_path, n_steps, output_path):\n",
    "    # Load the audio file\n",
    "    y, sr = lb.load(audio_path)\n",
    "    \n",
    "    # Perform pitch shift\n",
    "    y_shifted = lb.effects.pitch_shift(y, sr=sr, n_steps=n_steps)\n",
    "    \n",
    "    # Save the processed file\n",
    "    sf.write(output_path, y_shifted, sr)\n",
    "\n",
    "# Example: pitch_shift('input.mp3', 2, 'output.mp3')  # Shifts up by 2 semitones"
   ]
  },
  {
   "cell_type": "code",
   "execution_count": null,
   "metadata": {},
   "outputs": [],
   "source": [
    "# Krumhansl-Schmuckler key profiles (empirical data)\n",
    "# Order: C, C#, D, D#, E, F, F#, G, G#, A, A#, B\n",
    "# Values represent perceived \"fit\" or \"stability\" of each pitch class within the key.\n",
    "\n",
    "# Profile for major keys (based on C major)\n",
    "krumhansl_major_profile_base = np.array([\n",
    "    6.35,  # C\n",
    "    2.23,  # C#\n",
    "    3.48,  # D\n",
    "    2.33,  # D#\n",
    "    4.38,  # E\n",
    "    4.09,  # F\n",
    "    2.52,  # F#\n",
    "    5.19,  # G\n",
    "    2.39,  # G#\n",
    "    3.66,  # A\n",
    "    2.29,  # A#\n",
    "    2.88   # B\n",
    "])\n",
    "\n",
    "# Profile for minor keys (based on C minor for easier rolling,\n",
    "# original Krumhansl might present A minor, but conceptually similar when rolled)\n",
    "krumhansl_minor_profile_base = np.array([\n",
    "    6.33,  # C (tonic of C minor)\n",
    "    2.68,  # C#\n",
    "    3.52,  # D\n",
    "    5.38,  # Eb (minor third)\n",
    "    2.60,  # E\n",
    "    3.53,  # F\n",
    "    2.54,  # F#\n",
    "    4.75,  # G (dominant)\n",
    "    3.98,  # G#\n",
    "    2.69,  # A\n",
    "    3.34,  # A#\n",
    "    3.17   # B\n",
    "])\n",
    "\n",
    "# List of pitch classes (keys)\n",
    "PITCH_CLASSES = ['C', 'C#', 'D', 'D#', 'E', 'F', 'F#', 'G', 'G#', 'A', 'A#', 'B']\n",
    "\n",
    "def generate_key_profiles():\n",
    "    \"\"\"\n",
    "    Generates the 24 Krumhansl-Schmuckler key profiles (12 major, 12 minor).\n",
    "    \"\"\"\n",
    "    key_profiles = {}\n",
    "    for i in range(12):\n",
    "        # Major keys\n",
    "        major_key_name = f\"{PITCH_CLASSES[i]} major\"\n",
    "        major_profile = np.roll(krumhansl_major_profile_base, i)\n",
    "        key_profiles[major_key_name] = major_profile / np.sum(major_profile) # Normalize\n",
    "\n",
    "        # Minor keys\n",
    "        minor_key_name = f\"{PITCH_CLASSES[i]} minor\"\n",
    "        minor_profile = np.roll(krumhansl_minor_profile_base, i)\n",
    "        key_profiles[minor_key_name] = minor_profile / np.sum(minor_profile) # Normalize\n",
    "    return key_profiles\n",
    "\n",
    "# Pre-generate the profiles when the script loads\n",
    "ALL_KEY_PROFILES = generate_key_profiles()\n",
    "\n",
    "def detect_key_krumhansl(audio_path):\n",
    "    try:\n",
    "        # 1. Load the audio file\n",
    "        y, sr = librosa.load(audio_path)\n",
    "        if len(y) == 0:\n",
    "            print(\"Warning: Audio file is empty or could not be loaded properly.\")\n",
    "            return \"Unknown\", 0.0\n",
    "\n",
    "        # 2. Extract chroma features\n",
    "        # We can use various chroma types. chroma_stft is common.\n",
    "        # hop_length can be tuned. Longer hop_length might smooth too much.\n",
    "        chromagram = librosa.feature.chroma_stft(y=y, sr=sr)\n",
    "\n",
    "        # 3. Aggregate chroma features over time\n",
    "        # Summing gives a sense of the total energy per pitch class.\n",
    "        # Mean can also be used.\n",
    "        # Normalizing the resulting vector is crucial for correlation.\n",
    "        song_chroma_profile = np.sum(chromagram, axis=1)\n",
    "        \n",
    "        # Handle cases where the song is silent or has no chromatic content\n",
    "        if np.sum(song_chroma_profile) == 0:\n",
    "            print(\"Warning: No chromatic content found in the audio.\")\n",
    "            return \"Unknown (No chromatic content)\", 0.0\n",
    "            \n",
    "        song_chroma_profile_normalized = song_chroma_profile / np.sum(song_chroma_profile)\n",
    "\n",
    "\n",
    "        # 4. Compare with Krumhansl-Schmuckler profiles\n",
    "        best_key = None\n",
    "        max_correlation = -np.inf  # Initialize with a very small number\n",
    "\n",
    "        for key_name, key_profile in ALL_KEY_PROFILES.items():\n",
    "            # Calculate Pearson correlation coefficient\n",
    "            # The key_profiles are already normalized\n",
    "            correlation, _ = pearsonr(song_chroma_profile_normalized, key_profile)\n",
    "\n",
    "            if correlation > max_correlation:\n",
    "                max_correlation = correlation\n",
    "                best_key = key_name\n",
    "        \n",
    "        if best_key is None:\n",
    "             return \"Unknown (Correlation failed)\", 0.0\n",
    "\n",
    "        return best_key, float(max_correlation)\n",
    "\n",
    "    except Exception as e:\n",
    "        print(f\"Error during key detection: {e}\")\n",
    "        return \"Unknown (Error)\", 0.0\n",
    "\n",
    "# --- Example Usage ---\n",
    "if __name__ == \"__main__\":\n",
    "    # Replace with the path to your actual song\n",
    "    audio_file_path = \"path/to/your/actual/song.mp3\" \n",
    "    # If you don't have a file, comment out or skip this part\n",
    "    try:\n",
    "        print(f\"Testing with user-provided file: {audio_file_path}\")\n",
    "        detected_key, confidence = detect_key_krumhansl(audio_file_path)\n",
    "        print(f\"Detected key: {detected_key}, Confidence (Correlation): {confidence:.4f}\")\n",
    "    except FileNotFoundError:\n",
    "        print(f\"Audio file not found: {audio_file_path}. Skipping this test.\")\n",
    "    except Exception as e:\n",
    "        print(f\"Could not process {audio_file_path} due to: {e}\")"
   ]
  },
  {
   "cell_type": "code",
   "execution_count": null,
   "metadata": {},
   "outputs": [],
   "source": [
    "# def change_speed_and_pitch(audio_data, sr, speed_factor):\n",
    "#     \"\"\"\n",
    "#     Changes the speed of audio data without saving to file\n",
    "#     Parameters:\n",
    "#         audio_data: numpy array of audio samples\n",
    "#         sr: sample rate\n",
    "#         speed_factor: factor to change speed (e.g., 1.2 for 20% faster)\n",
    "#     Returns:\n",
    "#         processed audio data as numpy array\n",
    "#     \"\"\"\n",
    "#     # Change speed (tempo) but keep pitch\n",
    "#     y_processed = lb.effects.time_stretch(audio_data, rate=speed_factor)\n",
    "    \n",
    "#     return y_processed, sr"
   ]
  },
  {
   "cell_type": "code",
   "execution_count": null,
   "metadata": {},
   "outputs": [],
   "source": [
    "# # Load audio once\n",
    "# y, sr = lb.load(\"input.mp3\")\n",
    "\n",
    "# # Process audio when speed change is requested (e.g., from a slider in UI)\n",
    "# def on_speed_change(speed_factor):\n",
    "#     processed_audio, sr = change_speed_and_pitch(y, sr, speed_factor)\n",
    "#     # Here you would send processed_audio to your audio playback system\n",
    "#     return processed_audio"
   ]
  }
 ],
 "metadata": {
  "kernelspec": {
   "display_name": "Python 3",
   "language": "python",
   "name": "python3"
  },
  "language_info": {
   "codemirror_mode": {
    "name": "ipython",
    "version": 3
   },
   "file_extension": ".py",
   "mimetype": "text/x-python",
   "name": "python",
   "nbconvert_exporter": "python",
   "pygments_lexer": "ipython3",
   "version": "3.12.3"
  }
 },
 "nbformat": 4,
 "nbformat_minor": 2
}
