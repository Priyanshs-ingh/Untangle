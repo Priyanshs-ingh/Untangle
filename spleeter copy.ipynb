{
 "cells": [
  {
   "cell_type": "code",
   "execution_count": 1,
   "metadata": {},
   "outputs": [
    {
     "name": "stdout",
     "output_type": "stream",
     "text": [
      "Defaulting to user installation because normal site-packages is not writeable\n",
      "Requirement already satisfied: spleeter in /home/priyansh_singh/.local/lib/python3.10/site-packages (2.4.0)\n",
      "Requirement already satisfied: tensorflow<2.10.0,>=2.5.0 in /home/priyansh_singh/.local/lib/python3.10/site-packages (from spleeter) (2.9.3)\n",
      "Requirement already satisfied: norbert<0.3.0,>=0.2.1 in /home/priyansh_singh/.local/lib/python3.10/site-packages (from spleeter) (0.2.1)\n",
      "Requirement already satisfied: httpx[http2]<0.20.0,>=0.19.0 in /home/priyansh_singh/.local/lib/python3.10/site-packages (from spleeter) (0.19.0)\n",
      "Requirement already satisfied: ffmpeg-python<0.3.0,>=0.2.0 in /home/priyansh_singh/.local/lib/python3.10/site-packages (from spleeter) (0.2.0)\n",
      "Requirement already satisfied: pandas<2.0.0,>=1.3.0 in /home/priyansh_singh/.local/lib/python3.10/site-packages (from spleeter) (1.5.3)\n",
      "Requirement already satisfied: typer<0.4.0,>=0.3.2 in /home/priyansh_singh/.local/lib/python3.10/site-packages (from spleeter) (0.3.2)\n",
      "Requirement already satisfied: future in /home/priyansh_singh/.local/lib/python3.10/site-packages (from ffmpeg-python<0.3.0,>=0.2.0->spleeter) (1.0.0)\n",
      "Requirement already satisfied: rfc3986[idna2008]<2,>=1.3 in /home/priyansh_singh/.local/lib/python3.10/site-packages (from httpx[http2]<0.20.0,>=0.19.0->spleeter) (1.5.0)\n",
      "Requirement already satisfied: charset-normalizer in /home/priyansh_singh/.local/lib/python3.10/site-packages (from httpx[http2]<0.20.0,>=0.19.0->spleeter) (3.4.1)\n",
      "Requirement already satisfied: sniffio in /home/priyansh_singh/.local/lib/python3.10/site-packages (from httpx[http2]<0.20.0,>=0.19.0->spleeter) (1.3.1)\n",
      "Requirement already satisfied: certifi in /home/priyansh_singh/.local/lib/python3.10/site-packages (from httpx[http2]<0.20.0,>=0.19.0->spleeter) (2024.12.14)\n",
      "Requirement already satisfied: httpcore<0.14.0,>=0.13.3 in /home/priyansh_singh/.local/lib/python3.10/site-packages (from httpx[http2]<0.20.0,>=0.19.0->spleeter) (0.13.7)\n",
      "Requirement already satisfied: h2<5,>=3 in /home/priyansh_singh/.local/lib/python3.10/site-packages (from httpx[http2]<0.20.0,>=0.19.0->spleeter) (4.1.0)\n",
      "Requirement already satisfied: scipy in /home/priyansh_singh/.local/lib/python3.10/site-packages (from norbert<0.3.0,>=0.2.1->spleeter) (1.15.1)\n",
      "Requirement already satisfied: pytz>=2020.1 in /home/priyansh_singh/.local/lib/python3.10/site-packages (from pandas<2.0.0,>=1.3.0->spleeter) (2024.2)\n",
      "Requirement already satisfied: python-dateutil>=2.8.1 in /home/priyansh_singh/.local/lib/python3.10/site-packages (from pandas<2.0.0,>=1.3.0->spleeter) (2.9.0.post0)\n",
      "Requirement already satisfied: numpy>=1.21.0 in /home/priyansh_singh/.local/lib/python3.10/site-packages (from pandas<2.0.0,>=1.3.0->spleeter) (1.26.4)\n",
      "Requirement already satisfied: keras-preprocessing>=1.1.1 in /home/priyansh_singh/.local/lib/python3.10/site-packages (from tensorflow<2.10.0,>=2.5.0->spleeter) (1.1.2)\n",
      "Requirement already satisfied: libclang>=13.0.0 in /home/priyansh_singh/.local/lib/python3.10/site-packages (from tensorflow<2.10.0,>=2.5.0->spleeter) (18.1.1)\n",
      "Requirement already satisfied: six>=1.12.0 in /home/priyansh_singh/.local/lib/python3.10/site-packages (from tensorflow<2.10.0,>=2.5.0->spleeter) (1.17.0)\n",
      "Requirement already satisfied: termcolor>=1.1.0 in /home/priyansh_singh/.local/lib/python3.10/site-packages (from tensorflow<2.10.0,>=2.5.0->spleeter) (2.5.0)\n",
      "Requirement already satisfied: gast<=0.4.0,>=0.2.1 in /home/priyansh_singh/.local/lib/python3.10/site-packages (from tensorflow<2.10.0,>=2.5.0->spleeter) (0.4.0)\n",
      "Requirement already satisfied: keras<2.10.0,>=2.9.0rc0 in /home/priyansh_singh/.local/lib/python3.10/site-packages (from tensorflow<2.10.0,>=2.5.0->spleeter) (2.9.0)\n",
      "Requirement already satisfied: h5py>=2.9.0 in /home/priyansh_singh/.local/lib/python3.10/site-packages (from tensorflow<2.10.0,>=2.5.0->spleeter) (3.12.1)\n",
      "Requirement already satisfied: typing-extensions>=3.6.6 in /home/priyansh_singh/.local/lib/python3.10/site-packages (from tensorflow<2.10.0,>=2.5.0->spleeter) (4.12.2)\n",
      "Requirement already satisfied: google-pasta>=0.1.1 in /home/priyansh_singh/.local/lib/python3.10/site-packages (from tensorflow<2.10.0,>=2.5.0->spleeter) (0.2.0)\n",
      "Requirement already satisfied: absl-py>=1.0.0 in /home/priyansh_singh/.local/lib/python3.10/site-packages (from tensorflow<2.10.0,>=2.5.0->spleeter) (2.1.0)\n",
      "Requirement already satisfied: packaging in /home/priyansh_singh/.local/lib/python3.10/site-packages (from tensorflow<2.10.0,>=2.5.0->spleeter) (23.2)\n",
      "Requirement already satisfied: grpcio<2.0,>=1.24.3 in /home/priyansh_singh/.local/lib/python3.10/site-packages (from tensorflow<2.10.0,>=2.5.0->spleeter) (1.70.0)\n",
      "Requirement already satisfied: opt-einsum>=2.3.2 in /home/priyansh_singh/.local/lib/python3.10/site-packages (from tensorflow<2.10.0,>=2.5.0->spleeter) (3.4.0)\n",
      "Requirement already satisfied: flatbuffers<2,>=1.12 in /home/priyansh_singh/.local/lib/python3.10/site-packages (from tensorflow<2.10.0,>=2.5.0->spleeter) (1.12)\n",
      "Requirement already satisfied: setuptools in /usr/lib/python3/dist-packages (from tensorflow<2.10.0,>=2.5.0->spleeter) (59.6.0)\n",
      "Requirement already satisfied: wrapt>=1.11.0 in /home/priyansh_singh/.local/lib/python3.10/site-packages (from tensorflow<2.10.0,>=2.5.0->spleeter) (1.17.2)\n",
      "Requirement already satisfied: tensorflow-io-gcs-filesystem>=0.23.1 in /home/priyansh_singh/.local/lib/python3.10/site-packages (from tensorflow<2.10.0,>=2.5.0->spleeter) (0.37.1)\n",
      "Requirement already satisfied: astunparse>=1.6.0 in /home/priyansh_singh/.local/lib/python3.10/site-packages (from tensorflow<2.10.0,>=2.5.0->spleeter) (1.6.3)\n",
      "Requirement already satisfied: protobuf<3.20,>=3.9.2 in /home/priyansh_singh/.local/lib/python3.10/site-packages (from tensorflow<2.10.0,>=2.5.0->spleeter) (3.19.6)\n",
      "Requirement already satisfied: tensorflow-estimator<2.10.0,>=2.9.0rc0 in /home/priyansh_singh/.local/lib/python3.10/site-packages (from tensorflow<2.10.0,>=2.5.0->spleeter) (2.9.0)\n",
      "Requirement already satisfied: tensorboard<2.10,>=2.9 in /home/priyansh_singh/.local/lib/python3.10/site-packages (from tensorflow<2.10.0,>=2.5.0->spleeter) (2.9.1)\n",
      "Requirement already satisfied: click<7.2.0,>=7.1.1 in /home/priyansh_singh/.local/lib/python3.10/site-packages (from typer<0.4.0,>=0.3.2->spleeter) (7.1.2)\n",
      "Requirement already satisfied: wheel<1.0,>=0.23.0 in /usr/lib/python3/dist-packages (from astunparse>=1.6.0->tensorflow<2.10.0,>=2.5.0->spleeter) (0.37.1)\n",
      "Requirement already satisfied: hpack<5,>=4.0 in /home/priyansh_singh/.local/lib/python3.10/site-packages (from h2<5,>=3->httpx[http2]<0.20.0,>=0.19.0->spleeter) (4.1.0)\n",
      "Requirement already satisfied: hyperframe<7,>=6.0 in /home/priyansh_singh/.local/lib/python3.10/site-packages (from h2<5,>=3->httpx[http2]<0.20.0,>=0.19.0->spleeter) (6.1.0)\n",
      "Requirement already satisfied: anyio==3.* in /home/priyansh_singh/.local/lib/python3.10/site-packages (from httpcore<0.14.0,>=0.13.3->httpx[http2]<0.20.0,>=0.19.0->spleeter) (3.7.1)\n",
      "Requirement already satisfied: h11<0.13,>=0.11 in /home/priyansh_singh/.local/lib/python3.10/site-packages (from httpcore<0.14.0,>=0.13.3->httpx[http2]<0.20.0,>=0.19.0->spleeter) (0.12.0)\n",
      "Requirement already satisfied: idna>=2.8 in /home/priyansh_singh/.local/lib/python3.10/site-packages (from anyio==3.*->httpcore<0.14.0,>=0.13.3->httpx[http2]<0.20.0,>=0.19.0->spleeter) (3.10)\n",
      "Requirement already satisfied: exceptiongroup in /home/priyansh_singh/.local/lib/python3.10/site-packages (from anyio==3.*->httpcore<0.14.0,>=0.13.3->httpx[http2]<0.20.0,>=0.19.0->spleeter) (1.2.2)\n",
      "Requirement already satisfied: google-auth<3,>=1.6.3 in /home/priyansh_singh/.local/lib/python3.10/site-packages (from tensorboard<2.10,>=2.9->tensorflow<2.10.0,>=2.5.0->spleeter) (2.38.0)\n",
      "Requirement already satisfied: markdown>=2.6.8 in /home/priyansh_singh/.local/lib/python3.10/site-packages (from tensorboard<2.10,>=2.9->tensorflow<2.10.0,>=2.5.0->spleeter) (3.7)\n",
      "Requirement already satisfied: tensorboard-data-server<0.7.0,>=0.6.0 in /home/priyansh_singh/.local/lib/python3.10/site-packages (from tensorboard<2.10,>=2.9->tensorflow<2.10.0,>=2.5.0->spleeter) (0.6.1)\n",
      "Requirement already satisfied: google-auth-oauthlib<0.5,>=0.4.1 in /home/priyansh_singh/.local/lib/python3.10/site-packages (from tensorboard<2.10,>=2.9->tensorflow<2.10.0,>=2.5.0->spleeter) (0.4.6)\n",
      "Requirement already satisfied: tensorboard-plugin-wit>=1.6.0 in /home/priyansh_singh/.local/lib/python3.10/site-packages (from tensorboard<2.10,>=2.9->tensorflow<2.10.0,>=2.5.0->spleeter) (1.8.1)\n",
      "Requirement already satisfied: werkzeug>=1.0.1 in /home/priyansh_singh/.local/lib/python3.10/site-packages (from tensorboard<2.10,>=2.9->tensorflow<2.10.0,>=2.5.0->spleeter) (3.1.3)\n",
      "Requirement already satisfied: requests<3,>=2.21.0 in /home/priyansh_singh/.local/lib/python3.10/site-packages (from tensorboard<2.10,>=2.9->tensorflow<2.10.0,>=2.5.0->spleeter) (2.32.3)\n",
      "Requirement already satisfied: rsa<5,>=3.1.4 in /home/priyansh_singh/.local/lib/python3.10/site-packages (from google-auth<3,>=1.6.3->tensorboard<2.10,>=2.9->tensorflow<2.10.0,>=2.5.0->spleeter) (4.9)\n",
      "Requirement already satisfied: pyasn1-modules>=0.2.1 in /home/priyansh_singh/.local/lib/python3.10/site-packages (from google-auth<3,>=1.6.3->tensorboard<2.10,>=2.9->tensorflow<2.10.0,>=2.5.0->spleeter) (0.4.1)\n",
      "Requirement already satisfied: cachetools<6.0,>=2.0.0 in /home/priyansh_singh/.local/lib/python3.10/site-packages (from google-auth<3,>=1.6.3->tensorboard<2.10,>=2.9->tensorflow<2.10.0,>=2.5.0->spleeter) (5.5.1)\n",
      "Requirement already satisfied: requests-oauthlib>=0.7.0 in /home/priyansh_singh/.local/lib/python3.10/site-packages (from google-auth-oauthlib<0.5,>=0.4.1->tensorboard<2.10,>=2.9->tensorflow<2.10.0,>=2.5.0->spleeter) (2.0.0)\n",
      "Requirement already satisfied: urllib3<3,>=1.21.1 in /home/priyansh_singh/.local/lib/python3.10/site-packages (from requests<3,>=2.21.0->tensorboard<2.10,>=2.9->tensorflow<2.10.0,>=2.5.0->spleeter) (2.3.0)\n",
      "Requirement already satisfied: MarkupSafe>=2.1.1 in /home/priyansh_singh/.local/lib/python3.10/site-packages (from werkzeug>=1.0.1->tensorboard<2.10,>=2.9->tensorflow<2.10.0,>=2.5.0->spleeter) (3.0.2)\n",
      "Requirement already satisfied: pyasn1<0.7.0,>=0.4.6 in /home/priyansh_singh/.local/lib/python3.10/site-packages (from pyasn1-modules>=0.2.1->google-auth<3,>=1.6.3->tensorboard<2.10,>=2.9->tensorflow<2.10.0,>=2.5.0->spleeter) (0.6.1)\n",
      "Requirement already satisfied: oauthlib>=3.0.0 in /usr/lib/python3/dist-packages (from requests-oauthlib>=0.7.0->google-auth-oauthlib<0.5,>=0.4.1->tensorboard<2.10,>=2.9->tensorflow<2.10.0,>=2.5.0->spleeter) (3.2.0)\n",
      "Note: you may need to restart the kernel to use updated packages.\n"
     ]
    }
   ],
   "source": [
    "pip install spleeter\n"
   ]
  },
  {
   "cell_type": "code",
   "execution_count": 2,
   "metadata": {},
   "outputs": [
    {
     "name": "stderr",
     "output_type": "stream",
     "text": [
      "2025-02-01 15:28:13.145850: I tensorflow/core/util/util.cc:169] oneDNN custom operations are on. You may see slightly different numerical results due to floating-point round-off errors from different computation orders. To turn them off, set the environment variable `TF_ENABLE_ONEDNN_OPTS=0`.\n",
      "2025-02-01 15:28:13.243465: W tensorflow/stream_executor/platform/default/dso_loader.cc:64] Could not load dynamic library 'libcudart.so.11.0'; dlerror: libcudart.so.11.0: cannot open shared object file: No such file or directory\n",
      "2025-02-01 15:28:13.243490: I tensorflow/stream_executor/cuda/cudart_stub.cc:29] Ignore above cudart dlerror if you do not have a GPU set up on your machine.\n"
     ]
    }
   ],
   "source": [
    "from spleeter.separator import Separator"
   ]
  },
  {
   "cell_type": "code",
   "execution_count": 1,
   "metadata": {},
   "outputs": [
    {
     "name": "stderr",
     "output_type": "stream",
     "text": [
      "2025-02-01 15:46:45.771624: I tensorflow/core/util/util.cc:169] oneDNN custom operations are on. You may see slightly different numerical results due to floating-point round-off errors from different computation orders. To turn them off, set the environment variable `TF_ENABLE_ONEDNN_OPTS=0`.\n",
      "2025-02-01 15:46:45.833142: W tensorflow/stream_executor/platform/default/dso_loader.cc:64] Could not load dynamic library 'libcudart.so.11.0'; dlerror: libcudart.so.11.0: cannot open shared object file: No such file or directory\n",
      "2025-02-01 15:46:45.833168: I tensorflow/stream_executor/cuda/cudart_stub.cc:29] Ignore above cudart dlerror if you do not have a GPU set up on your machine.\n"
     ]
    },
    {
     "name": "stdout",
     "output_type": "stream",
     "text": [
      "INFO:tensorflow:Using config: {'_model_dir': 'pretrained_models/4stems', '_tf_random_seed': None, '_save_summary_steps': 100, '_save_checkpoints_steps': None, '_save_checkpoints_secs': 600, '_session_config': gpu_options {\n",
      "  per_process_gpu_memory_fraction: 0.7\n",
      "}\n",
      ", '_keep_checkpoint_max': 5, '_keep_checkpoint_every_n_hours': 10000, '_log_step_count_steps': 100, '_train_distribute': None, '_device_fn': None, '_protocol': None, '_eval_distribute': None, '_experimental_distribute': None, '_experimental_max_worker_delay_secs': None, '_session_creation_timeout_secs': 7200, '_checkpoint_save_graph_def': True, '_service': None, '_cluster_spec': ClusterSpec({}), '_task_type': 'worker', '_task_id': 0, '_global_id_in_cluster': 0, '_master': '', '_evaluation_master': '', '_is_chief': True, '_num_ps_replicas': 0, '_num_worker_replicas': 1}\n",
      "WARNING:tensorflow:From /home/priyansh_singh/.local/lib/python3.10/site-packages/spleeter/separator.py:146: calling DatasetV2.from_generator (from tensorflow.python.data.ops.dataset_ops) with output_types is deprecated and will be removed in a future version.\n",
      "Instructions for updating:\n",
      "Use output_signature instead\n",
      "WARNING:tensorflow:From /home/priyansh_singh/.local/lib/python3.10/site-packages/spleeter/separator.py:146: calling DatasetV2.from_generator (from tensorflow.python.data.ops.dataset_ops) with output_shapes is deprecated and will be removed in a future version.\n",
      "Instructions for updating:\n",
      "Use output_signature instead\n",
      "INFO:tensorflow:Calling model_fn.\n",
      "INFO:tensorflow:Apply unet for vocals_spectrogram\n",
      "WARNING:tensorflow:From /home/priyansh_singh/.local/lib/python3.10/site-packages/keras/layers/normalization/batch_normalization.py:514: _colocate_with (from tensorflow.python.framework.ops) is deprecated and will be removed in a future version.\n",
      "Instructions for updating:\n",
      "Colocations handled automatically by placer.\n"
     ]
    },
    {
     "name": "stderr",
     "output_type": "stream",
     "text": [
      "2025-02-01 15:46:52.404259: I tensorflow/stream_executor/cuda/cuda_gpu_executor.cc:961] could not open file to read NUMA node: /sys/bus/pci/devices/0000:01:00.0/numa_node\n",
      "Your kernel may have been built without NUMA support.\n",
      "2025-02-01 15:46:52.404468: W tensorflow/stream_executor/platform/default/dso_loader.cc:64] Could not load dynamic library 'libcudart.so.11.0'; dlerror: libcudart.so.11.0: cannot open shared object file: No such file or directory\n",
      "2025-02-01 15:46:52.404538: W tensorflow/stream_executor/platform/default/dso_loader.cc:64] Could not load dynamic library 'libcublas.so.11'; dlerror: libcublas.so.11: cannot open shared object file: No such file or directory\n",
      "2025-02-01 15:46:52.404582: W tensorflow/stream_executor/platform/default/dso_loader.cc:64] Could not load dynamic library 'libcublasLt.so.11'; dlerror: libcublasLt.so.11: cannot open shared object file: No such file or directory\n",
      "2025-02-01 15:46:52.404623: W tensorflow/stream_executor/platform/default/dso_loader.cc:64] Could not load dynamic library 'libcufft.so.10'; dlerror: libcufft.so.10: cannot open shared object file: No such file or directory\n",
      "2025-02-01 15:46:52.404661: W tensorflow/stream_executor/platform/default/dso_loader.cc:64] Could not load dynamic library 'libcurand.so.10'; dlerror: libcurand.so.10: cannot open shared object file: No such file or directory\n",
      "2025-02-01 15:46:52.404701: W tensorflow/stream_executor/platform/default/dso_loader.cc:64] Could not load dynamic library 'libcusolver.so.11'; dlerror: libcusolver.so.11: cannot open shared object file: No such file or directory\n",
      "2025-02-01 15:46:52.404739: W tensorflow/stream_executor/platform/default/dso_loader.cc:64] Could not load dynamic library 'libcusparse.so.11'; dlerror: libcusparse.so.11: cannot open shared object file: No such file or directory\n",
      "2025-02-01 15:46:52.404777: W tensorflow/stream_executor/platform/default/dso_loader.cc:64] Could not load dynamic library 'libcudnn.so.8'; dlerror: libcudnn.so.8: cannot open shared object file: No such file or directory\n",
      "2025-02-01 15:46:52.404784: W tensorflow/core/common_runtime/gpu/gpu_device.cc:1850] Cannot dlopen some GPU libraries. Please make sure the missing libraries mentioned above are installed properly if you would like to use GPU. Follow the guide at https://www.tensorflow.org/install/gpu for how to download and setup the required libraries for your platform.\n",
      "Skipping registering GPU devices...\n"
     ]
    },
    {
     "name": "stdout",
     "output_type": "stream",
     "text": [
      "INFO:tensorflow:Apply unet for drums_spectrogram\n",
      "INFO:tensorflow:Apply unet for bass_spectrogram\n",
      "INFO:tensorflow:Apply unet for other_spectrogram\n",
      "INFO:tensorflow:Done calling model_fn.\n",
      "INFO:tensorflow:Graph was finalized.\n"
     ]
    },
    {
     "name": "stderr",
     "output_type": "stream",
     "text": [
      "2025-02-01 15:46:56.225374: I tensorflow/core/platform/cpu_feature_guard.cc:193] This TensorFlow binary is optimized with oneAPI Deep Neural Network Library (oneDNN) to use the following CPU instructions in performance-critical operations:  AVX2 AVX_VNNI FMA\n",
      "To enable them in other operations, rebuild TensorFlow with the appropriate compiler flags.\n",
      "2025-02-01 15:46:56.230873: I tensorflow/stream_executor/cuda/cuda_gpu_executor.cc:961] could not open file to read NUMA node: /sys/bus/pci/devices/0000:01:00.0/numa_node\n",
      "Your kernel may have been built without NUMA support.\n",
      "2025-02-01 15:46:56.230941: W tensorflow/core/common_runtime/gpu/gpu_device.cc:1850] Cannot dlopen some GPU libraries. Please make sure the missing libraries mentioned above are installed properly if you would like to use GPU. Follow the guide at https://www.tensorflow.org/install/gpu for how to download and setup the required libraries for your platform.\n",
      "Skipping registering GPU devices...\n"
     ]
    },
    {
     "name": "stdout",
     "output_type": "stream",
     "text": [
      "INFO:tensorflow:Restoring parameters from pretrained_models/4stems/model\n"
     ]
    },
    {
     "name": "stderr",
     "output_type": "stream",
     "text": [
      "2025-02-01 15:46:56.844537: I tensorflow/compiler/mlir/mlir_graph_optimization_pass.cc:354] MLIR V1 optimization pass is not enabled\n"
     ]
    },
    {
     "name": "stdout",
     "output_type": "stream",
     "text": [
      "INFO:tensorflow:Running local_init_op.\n",
      "INFO:tensorflow:Done running local_init_op.\n"
     ]
    },
    {
     "ename": "NotADirectoryError",
     "evalue": "[Errno 20] Not a directory: 'ouput3.wav/WhatsApp Audio 2025-02-01 at 15.10.28_26a775f6'",
     "output_type": "error",
     "traceback": [
      "\u001b[0;31m---------------------------------------------------------------------------\u001b[0m",
      "\u001b[0;31mNotADirectoryError\u001b[0m                        Traceback (most recent call last)",
      "Cell \u001b[0;32mIn[1], line 7\u001b[0m\n\u001b[1;32m      4\u001b[0m separator \u001b[38;5;241m=\u001b[39m Separator(\u001b[38;5;124m'\u001b[39m\u001b[38;5;124mspleeter:4stems\u001b[39m\u001b[38;5;124m'\u001b[39m)\n\u001b[1;32m      6\u001b[0m \u001b[38;5;66;03m# Separate the audio file - using the exact filename from your directory\u001b[39;00m\n\u001b[0;32m----> 7\u001b[0m \u001b[43mseparator\u001b[49m\u001b[38;5;241;43m.\u001b[39;49m\u001b[43mseparate_to_file\u001b[49m\u001b[43m(\u001b[49m\u001b[38;5;124;43m'\u001b[39;49m\u001b[38;5;124;43mWhatsApp Audio 2025-02-01 at 15.10.28_26a775f6.mp3\u001b[39;49m\u001b[38;5;124;43m'\u001b[39;49m\u001b[43m,\u001b[49m\u001b[43m \u001b[49m\u001b[38;5;124;43m'\u001b[39;49m\u001b[38;5;124;43mouput3.wav\u001b[39;49m\u001b[38;5;124;43m'\u001b[39;49m\u001b[43m)\u001b[49m\n",
      "File \u001b[0;32m~/.local/lib/python3.10/site-packages/spleeter/separator.py:298\u001b[0m, in \u001b[0;36mSeparator.separate_to_file\u001b[0;34m(self, audio_descriptor, destination, audio_adapter, offset, duration, codec, bitrate, filename_format, synchronous)\u001b[0m\n\u001b[1;32m    291\u001b[0m waveform, _ \u001b[38;5;241m=\u001b[39m audio_adapter\u001b[38;5;241m.\u001b[39mload(\n\u001b[1;32m    292\u001b[0m     audio_descriptor,\n\u001b[1;32m    293\u001b[0m     offset\u001b[38;5;241m=\u001b[39moffset,\n\u001b[1;32m    294\u001b[0m     duration\u001b[38;5;241m=\u001b[39mduration,\n\u001b[1;32m    295\u001b[0m     sample_rate\u001b[38;5;241m=\u001b[39m\u001b[38;5;28mself\u001b[39m\u001b[38;5;241m.\u001b[39m_sample_rate,\n\u001b[1;32m    296\u001b[0m )\n\u001b[1;32m    297\u001b[0m sources \u001b[38;5;241m=\u001b[39m \u001b[38;5;28mself\u001b[39m\u001b[38;5;241m.\u001b[39mseparate(waveform, audio_descriptor)\n\u001b[0;32m--> 298\u001b[0m \u001b[38;5;28;43mself\u001b[39;49m\u001b[38;5;241;43m.\u001b[39;49m\u001b[43msave_to_file\u001b[49m\u001b[43m(\u001b[49m\n\u001b[1;32m    299\u001b[0m \u001b[43m    \u001b[49m\u001b[43msources\u001b[49m\u001b[43m,\u001b[49m\n\u001b[1;32m    300\u001b[0m \u001b[43m    \u001b[49m\u001b[43maudio_descriptor\u001b[49m\u001b[43m,\u001b[49m\n\u001b[1;32m    301\u001b[0m \u001b[43m    \u001b[49m\u001b[43mdestination\u001b[49m\u001b[43m,\u001b[49m\n\u001b[1;32m    302\u001b[0m \u001b[43m    \u001b[49m\u001b[43mfilename_format\u001b[49m\u001b[43m,\u001b[49m\n\u001b[1;32m    303\u001b[0m \u001b[43m    \u001b[49m\u001b[43mcodec\u001b[49m\u001b[43m,\u001b[49m\n\u001b[1;32m    304\u001b[0m \u001b[43m    \u001b[49m\u001b[43maudio_adapter\u001b[49m\u001b[43m,\u001b[49m\n\u001b[1;32m    305\u001b[0m \u001b[43m    \u001b[49m\u001b[43mbitrate\u001b[49m\u001b[43m,\u001b[49m\n\u001b[1;32m    306\u001b[0m \u001b[43m    \u001b[49m\u001b[43msynchronous\u001b[49m\u001b[43m,\u001b[49m\n\u001b[1;32m    307\u001b[0m \u001b[43m\u001b[49m\u001b[43m)\u001b[49m\n",
      "File \u001b[0;32m~/.local/lib/python3.10/site-packages/spleeter/separator.py:363\u001b[0m, in \u001b[0;36mSeparator.save_to_file\u001b[0;34m(self, sources, audio_descriptor, destination, filename_format, codec, audio_adapter, bitrate, synchronous)\u001b[0m\n\u001b[1;32m    361\u001b[0m directory \u001b[38;5;241m=\u001b[39m os\u001b[38;5;241m.\u001b[39mpath\u001b[38;5;241m.\u001b[39mdirname(path)\n\u001b[1;32m    362\u001b[0m \u001b[38;5;28;01mif\u001b[39;00m \u001b[38;5;129;01mnot\u001b[39;00m os\u001b[38;5;241m.\u001b[39mpath\u001b[38;5;241m.\u001b[39mexists(directory):\n\u001b[0;32m--> 363\u001b[0m     \u001b[43mos\u001b[49m\u001b[38;5;241;43m.\u001b[39;49m\u001b[43mmakedirs\u001b[49m\u001b[43m(\u001b[49m\u001b[43mdirectory\u001b[49m\u001b[43m)\u001b[49m\n\u001b[1;32m    364\u001b[0m \u001b[38;5;28;01mif\u001b[39;00m path \u001b[38;5;129;01min\u001b[39;00m generated:\n\u001b[1;32m    365\u001b[0m     \u001b[38;5;28;01mraise\u001b[39;00m SpleeterError(\n\u001b[1;32m    366\u001b[0m         (\n\u001b[1;32m    367\u001b[0m             \u001b[38;5;124mf\u001b[39m\u001b[38;5;124m\"\u001b[39m\u001b[38;5;124mSeparated source path conflict : \u001b[39m\u001b[38;5;132;01m{\u001b[39;00mpath\u001b[38;5;132;01m}\u001b[39;00m\u001b[38;5;124m,\u001b[39m\u001b[38;5;124m\"\u001b[39m\n\u001b[1;32m    368\u001b[0m             \u001b[38;5;124m\"\u001b[39m\u001b[38;5;124mplease check your filename format\u001b[39m\u001b[38;5;124m\"\u001b[39m\n\u001b[1;32m    369\u001b[0m         )\n\u001b[1;32m    370\u001b[0m     )\n",
      "File \u001b[0;32m/usr/lib/python3.10/os.py:225\u001b[0m, in \u001b[0;36mmakedirs\u001b[0;34m(name, mode, exist_ok)\u001b[0m\n\u001b[1;32m    223\u001b[0m         \u001b[38;5;28;01mreturn\u001b[39;00m\n\u001b[1;32m    224\u001b[0m \u001b[38;5;28;01mtry\u001b[39;00m:\n\u001b[0;32m--> 225\u001b[0m     \u001b[43mmkdir\u001b[49m\u001b[43m(\u001b[49m\u001b[43mname\u001b[49m\u001b[43m,\u001b[49m\u001b[43m \u001b[49m\u001b[43mmode\u001b[49m\u001b[43m)\u001b[49m\n\u001b[1;32m    226\u001b[0m \u001b[38;5;28;01mexcept\u001b[39;00m \u001b[38;5;167;01mOSError\u001b[39;00m:\n\u001b[1;32m    227\u001b[0m     \u001b[38;5;66;03m# Cannot rely on checking for EEXIST, since the operating system\u001b[39;00m\n\u001b[1;32m    228\u001b[0m     \u001b[38;5;66;03m# could give priority to other errors like EACCES or EROFS\u001b[39;00m\n\u001b[1;32m    229\u001b[0m     \u001b[38;5;28;01mif\u001b[39;00m \u001b[38;5;129;01mnot\u001b[39;00m exist_ok \u001b[38;5;129;01mor\u001b[39;00m \u001b[38;5;129;01mnot\u001b[39;00m path\u001b[38;5;241m.\u001b[39misdir(name):\n",
      "\u001b[0;31mNotADirectoryError\u001b[0m: [Errno 20] Not a directory: 'ouput3.wav/WhatsApp Audio 2025-02-01 at 15.10.28_26a775f6'"
     ]
    }
   ],
   "source": [
    "\n",
    "from spleeter.separator import Separator\n",
    "\n",
    "# Create a separator object with the desired model (e.g., 4 stems)\n",
    "separator = Separator('spleeter:4stems')\n",
    "\n",
    "# Separate the audio file - using the exact filename from your directory\n",
    "separator.separate_to_file('WhatsApp Audio 2025-02-01 at 15.10.28_26a775f6.mp3', 'ouput3.wav')"
   ]
  },
  {
   "cell_type": "code",
   "execution_count": 2,
   "metadata": {},
   "outputs": [
    {
     "name": "stdout",
     "output_type": "stream",
     "text": [
      "Defaulting to user installation because normal site-packages is not writeable\n",
      "Requirement already satisfied: tensorflow in /home/priyansh_singh/.local/lib/python3.10/site-packages (2.9.3)\n",
      "Requirement already satisfied: h5py>=2.9.0 in /home/priyansh_singh/.local/lib/python3.10/site-packages (from tensorflow) (3.12.1)\n",
      "Requirement already satisfied: absl-py>=1.0.0 in /home/priyansh_singh/.local/lib/python3.10/site-packages (from tensorflow) (2.1.0)\n",
      "Requirement already satisfied: astunparse>=1.6.0 in /home/priyansh_singh/.local/lib/python3.10/site-packages (from tensorflow) (1.6.3)\n",
      "Requirement already satisfied: flatbuffers<2,>=1.12 in /home/priyansh_singh/.local/lib/python3.10/site-packages (from tensorflow) (1.12)\n",
      "Requirement already satisfied: tensorflow-io-gcs-filesystem>=0.23.1 in /home/priyansh_singh/.local/lib/python3.10/site-packages (from tensorflow) (0.37.1)\n",
      "Requirement already satisfied: keras<2.10.0,>=2.9.0rc0 in /home/priyansh_singh/.local/lib/python3.10/site-packages (from tensorflow) (2.9.0)\n",
      "Requirement already satisfied: six>=1.12.0 in /home/priyansh_singh/.local/lib/python3.10/site-packages (from tensorflow) (1.17.0)\n",
      "Requirement already satisfied: numpy>=1.20 in /home/priyansh_singh/.local/lib/python3.10/site-packages (from tensorflow) (1.26.4)\n",
      "Requirement already satisfied: typing-extensions>=3.6.6 in /home/priyansh_singh/.local/lib/python3.10/site-packages (from tensorflow) (4.12.2)\n",
      "Requirement already satisfied: gast<=0.4.0,>=0.2.1 in /home/priyansh_singh/.local/lib/python3.10/site-packages (from tensorflow) (0.4.0)\n",
      "Requirement already satisfied: grpcio<2.0,>=1.24.3 in /home/priyansh_singh/.local/lib/python3.10/site-packages (from tensorflow) (1.70.0)\n",
      "Requirement already satisfied: tensorflow-estimator<2.10.0,>=2.9.0rc0 in /home/priyansh_singh/.local/lib/python3.10/site-packages (from tensorflow) (2.9.0)\n",
      "Requirement already satisfied: termcolor>=1.1.0 in /home/priyansh_singh/.local/lib/python3.10/site-packages (from tensorflow) (2.5.0)\n",
      "Requirement already satisfied: wrapt>=1.11.0 in /home/priyansh_singh/.local/lib/python3.10/site-packages (from tensorflow) (1.17.2)\n",
      "Requirement already satisfied: keras-preprocessing>=1.1.1 in /home/priyansh_singh/.local/lib/python3.10/site-packages (from tensorflow) (1.1.2)\n",
      "Requirement already satisfied: opt-einsum>=2.3.2 in /home/priyansh_singh/.local/lib/python3.10/site-packages (from tensorflow) (3.4.0)\n",
      "Requirement already satisfied: protobuf<3.20,>=3.9.2 in /home/priyansh_singh/.local/lib/python3.10/site-packages (from tensorflow) (3.19.6)\n",
      "Requirement already satisfied: libclang>=13.0.0 in /home/priyansh_singh/.local/lib/python3.10/site-packages (from tensorflow) (18.1.1)\n",
      "Requirement already satisfied: packaging in /home/priyansh_singh/.local/lib/python3.10/site-packages (from tensorflow) (23.2)\n",
      "Requirement already satisfied: google-pasta>=0.1.1 in /home/priyansh_singh/.local/lib/python3.10/site-packages (from tensorflow) (0.2.0)\n",
      "Requirement already satisfied: tensorboard<2.10,>=2.9 in /home/priyansh_singh/.local/lib/python3.10/site-packages (from tensorflow) (2.9.1)\n",
      "Requirement already satisfied: setuptools in /usr/lib/python3/dist-packages (from tensorflow) (59.6.0)\n",
      "Requirement already satisfied: wheel<1.0,>=0.23.0 in /usr/lib/python3/dist-packages (from astunparse>=1.6.0->tensorflow) (0.37.1)\n",
      "Requirement already satisfied: tensorboard-plugin-wit>=1.6.0 in /home/priyansh_singh/.local/lib/python3.10/site-packages (from tensorboard<2.10,>=2.9->tensorflow) (1.8.1)\n",
      "Requirement already satisfied: requests<3,>=2.21.0 in /home/priyansh_singh/.local/lib/python3.10/site-packages (from tensorboard<2.10,>=2.9->tensorflow) (2.32.3)\n",
      "Requirement already satisfied: markdown>=2.6.8 in /home/priyansh_singh/.local/lib/python3.10/site-packages (from tensorboard<2.10,>=2.9->tensorflow) (3.7)\n",
      "Requirement already satisfied: google-auth<3,>=1.6.3 in /home/priyansh_singh/.local/lib/python3.10/site-packages (from tensorboard<2.10,>=2.9->tensorflow) (2.38.0)\n",
      "Requirement already satisfied: tensorboard-data-server<0.7.0,>=0.6.0 in /home/priyansh_singh/.local/lib/python3.10/site-packages (from tensorboard<2.10,>=2.9->tensorflow) (0.6.1)\n",
      "Requirement already satisfied: google-auth-oauthlib<0.5,>=0.4.1 in /home/priyansh_singh/.local/lib/python3.10/site-packages (from tensorboard<2.10,>=2.9->tensorflow) (0.4.6)\n",
      "Requirement already satisfied: werkzeug>=1.0.1 in /home/priyansh_singh/.local/lib/python3.10/site-packages (from tensorboard<2.10,>=2.9->tensorflow) (3.1.3)\n",
      "Requirement already satisfied: pyasn1-modules>=0.2.1 in /home/priyansh_singh/.local/lib/python3.10/site-packages (from google-auth<3,>=1.6.3->tensorboard<2.10,>=2.9->tensorflow) (0.4.1)\n",
      "Requirement already satisfied: cachetools<6.0,>=2.0.0 in /home/priyansh_singh/.local/lib/python3.10/site-packages (from google-auth<3,>=1.6.3->tensorboard<2.10,>=2.9->tensorflow) (5.5.1)\n",
      "Requirement already satisfied: rsa<5,>=3.1.4 in /home/priyansh_singh/.local/lib/python3.10/site-packages (from google-auth<3,>=1.6.3->tensorboard<2.10,>=2.9->tensorflow) (4.9)\n",
      "Requirement already satisfied: requests-oauthlib>=0.7.0 in /home/priyansh_singh/.local/lib/python3.10/site-packages (from google-auth-oauthlib<0.5,>=0.4.1->tensorboard<2.10,>=2.9->tensorflow) (2.0.0)\n",
      "Requirement already satisfied: charset-normalizer<4,>=2 in /home/priyansh_singh/.local/lib/python3.10/site-packages (from requests<3,>=2.21.0->tensorboard<2.10,>=2.9->tensorflow) (3.4.1)\n",
      "Requirement already satisfied: urllib3<3,>=1.21.1 in /home/priyansh_singh/.local/lib/python3.10/site-packages (from requests<3,>=2.21.0->tensorboard<2.10,>=2.9->tensorflow) (2.3.0)\n",
      "Requirement already satisfied: idna<4,>=2.5 in /home/priyansh_singh/.local/lib/python3.10/site-packages (from requests<3,>=2.21.0->tensorboard<2.10,>=2.9->tensorflow) (3.10)\n",
      "Requirement already satisfied: certifi>=2017.4.17 in /home/priyansh_singh/.local/lib/python3.10/site-packages (from requests<3,>=2.21.0->tensorboard<2.10,>=2.9->tensorflow) (2024.12.14)\n",
      "Requirement already satisfied: MarkupSafe>=2.1.1 in /home/priyansh_singh/.local/lib/python3.10/site-packages (from werkzeug>=1.0.1->tensorboard<2.10,>=2.9->tensorflow) (3.0.2)\n",
      "Requirement already satisfied: pyasn1<0.7.0,>=0.4.6 in /home/priyansh_singh/.local/lib/python3.10/site-packages (from pyasn1-modules>=0.2.1->google-auth<3,>=1.6.3->tensorboard<2.10,>=2.9->tensorflow) (0.6.1)\n",
      "Requirement already satisfied: oauthlib>=3.0.0 in /usr/lib/python3/dist-packages (from requests-oauthlib>=0.7.0->google-auth-oauthlib<0.5,>=0.4.1->tensorboard<2.10,>=2.9->tensorflow) (3.2.0)\n",
      "Note: you may need to restart the kernel to use updated packages.\n"
     ]
    }
   ],
   "source": [
    "pip install tensorflow"
   ]
  },
  {
   "cell_type": "code",
   "execution_count": 1,
   "metadata": {},
   "outputs": [
    {
     "name": "stderr",
     "output_type": "stream",
     "text": [
      "2025-02-01 15:48:55.515437: I tensorflow/core/util/util.cc:169] oneDNN custom operations are on. You may see slightly different numerical results due to floating-point round-off errors from different computation orders. To turn them off, set the environment variable `TF_ENABLE_ONEDNN_OPTS=0`.\n",
      "2025-02-01 15:48:55.590119: W tensorflow/stream_executor/platform/default/dso_loader.cc:64] Could not load dynamic library 'libcudart.so.11.0'; dlerror: libcudart.so.11.0: cannot open shared object file: No such file or directory\n",
      "2025-02-01 15:48:55.590144: I tensorflow/stream_executor/cuda/cudart_stub.cc:29] Ignore above cudart dlerror if you do not have a GPU set up on your machine.\n"
     ]
    },
    {
     "name": "stdout",
     "output_type": "stream",
     "text": [
      "INFO:tensorflow:Using config: {'_model_dir': 'pretrained_models/4stems', '_tf_random_seed': None, '_save_summary_steps': 100, '_save_checkpoints_steps': None, '_save_checkpoints_secs': 600, '_session_config': gpu_options {\n",
      "  per_process_gpu_memory_fraction: 0.7\n",
      "}\n",
      ", '_keep_checkpoint_max': 5, '_keep_checkpoint_every_n_hours': 10000, '_log_step_count_steps': 100, '_train_distribute': None, '_device_fn': None, '_protocol': None, '_eval_distribute': None, '_experimental_distribute': None, '_experimental_max_worker_delay_secs': None, '_session_creation_timeout_secs': 7200, '_checkpoint_save_graph_def': True, '_service': None, '_cluster_spec': ClusterSpec({}), '_task_type': 'worker', '_task_id': 0, '_global_id_in_cluster': 0, '_master': '', '_evaluation_master': '', '_is_chief': True, '_num_ps_replicas': 0, '_num_worker_replicas': 1}\n",
      "WARNING:tensorflow:From /home/priyansh_singh/.local/lib/python3.10/site-packages/spleeter/separator.py:146: calling DatasetV2.from_generator (from tensorflow.python.data.ops.dataset_ops) with output_types is deprecated and will be removed in a future version.\n",
      "Instructions for updating:\n",
      "Use output_signature instead\n",
      "WARNING:tensorflow:From /home/priyansh_singh/.local/lib/python3.10/site-packages/spleeter/separator.py:146: calling DatasetV2.from_generator (from tensorflow.python.data.ops.dataset_ops) with output_shapes is deprecated and will be removed in a future version.\n",
      "Instructions for updating:\n",
      "Use output_signature instead\n",
      "INFO:tensorflow:Calling model_fn.\n",
      "INFO:tensorflow:Apply unet for vocals_spectrogram\n",
      "WARNING:tensorflow:From /home/priyansh_singh/.local/lib/python3.10/site-packages/keras/layers/normalization/batch_normalization.py:514: _colocate_with (from tensorflow.python.framework.ops) is deprecated and will be removed in a future version.\n",
      "Instructions for updating:\n",
      "Colocations handled automatically by placer.\n"
     ]
    },
    {
     "name": "stderr",
     "output_type": "stream",
     "text": [
      "2025-02-01 15:49:03.075244: I tensorflow/stream_executor/cuda/cuda_gpu_executor.cc:961] could not open file to read NUMA node: /sys/bus/pci/devices/0000:01:00.0/numa_node\n",
      "Your kernel may have been built without NUMA support.\n",
      "2025-02-01 15:49:03.075539: W tensorflow/stream_executor/platform/default/dso_loader.cc:64] Could not load dynamic library 'libcudart.so.11.0'; dlerror: libcudart.so.11.0: cannot open shared object file: No such file or directory\n",
      "2025-02-01 15:49:03.075646: W tensorflow/stream_executor/platform/default/dso_loader.cc:64] Could not load dynamic library 'libcublas.so.11'; dlerror: libcublas.so.11: cannot open shared object file: No such file or directory\n",
      "2025-02-01 15:49:03.075716: W tensorflow/stream_executor/platform/default/dso_loader.cc:64] Could not load dynamic library 'libcublasLt.so.11'; dlerror: libcublasLt.so.11: cannot open shared object file: No such file or directory\n",
      "2025-02-01 15:49:03.075817: W tensorflow/stream_executor/platform/default/dso_loader.cc:64] Could not load dynamic library 'libcufft.so.10'; dlerror: libcufft.so.10: cannot open shared object file: No such file or directory\n",
      "2025-02-01 15:49:03.075885: W tensorflow/stream_executor/platform/default/dso_loader.cc:64] Could not load dynamic library 'libcurand.so.10'; dlerror: libcurand.so.10: cannot open shared object file: No such file or directory\n",
      "2025-02-01 15:49:03.075950: W tensorflow/stream_executor/platform/default/dso_loader.cc:64] Could not load dynamic library 'libcusolver.so.11'; dlerror: libcusolver.so.11: cannot open shared object file: No such file or directory\n",
      "2025-02-01 15:49:03.076017: W tensorflow/stream_executor/platform/default/dso_loader.cc:64] Could not load dynamic library 'libcusparse.so.11'; dlerror: libcusparse.so.11: cannot open shared object file: No such file or directory\n",
      "2025-02-01 15:49:03.076082: W tensorflow/stream_executor/platform/default/dso_loader.cc:64] Could not load dynamic library 'libcudnn.so.8'; dlerror: libcudnn.so.8: cannot open shared object file: No such file or directory\n",
      "2025-02-01 15:49:03.076133: W tensorflow/core/common_runtime/gpu/gpu_device.cc:1850] Cannot dlopen some GPU libraries. Please make sure the missing libraries mentioned above are installed properly if you would like to use GPU. Follow the guide at https://www.tensorflow.org/install/gpu for how to download and setup the required libraries for your platform.\n",
      "Skipping registering GPU devices...\n"
     ]
    },
    {
     "name": "stdout",
     "output_type": "stream",
     "text": [
      "INFO:tensorflow:Apply unet for drums_spectrogram\n",
      "INFO:tensorflow:Apply unet for bass_spectrogram\n",
      "INFO:tensorflow:Apply unet for other_spectrogram\n",
      "INFO:tensorflow:Done calling model_fn.\n",
      "INFO:tensorflow:Graph was finalized.\n"
     ]
    },
    {
     "name": "stderr",
     "output_type": "stream",
     "text": [
      "2025-02-01 15:49:06.887421: I tensorflow/core/platform/cpu_feature_guard.cc:193] This TensorFlow binary is optimized with oneAPI Deep Neural Network Library (oneDNN) to use the following CPU instructions in performance-critical operations:  AVX2 AVX_VNNI FMA\n",
      "To enable them in other operations, rebuild TensorFlow with the appropriate compiler flags.\n",
      "2025-02-01 15:49:06.891852: I tensorflow/stream_executor/cuda/cuda_gpu_executor.cc:961] could not open file to read NUMA node: /sys/bus/pci/devices/0000:01:00.0/numa_node\n",
      "Your kernel may have been built without NUMA support.\n",
      "2025-02-01 15:49:06.891927: W tensorflow/core/common_runtime/gpu/gpu_device.cc:1850] Cannot dlopen some GPU libraries. Please make sure the missing libraries mentioned above are installed properly if you would like to use GPU. Follow the guide at https://www.tensorflow.org/install/gpu for how to download and setup the required libraries for your platform.\n",
      "Skipping registering GPU devices...\n"
     ]
    },
    {
     "name": "stdout",
     "output_type": "stream",
     "text": [
      "INFO:tensorflow:Restoring parameters from pretrained_models/4stems/model\n"
     ]
    },
    {
     "name": "stderr",
     "output_type": "stream",
     "text": [
      "2025-02-01 15:49:07.504435: I tensorflow/compiler/mlir/mlir_graph_optimization_pass.cc:354] MLIR V1 optimization pass is not enabled\n"
     ]
    },
    {
     "name": "stdout",
     "output_type": "stream",
     "text": [
      "INFO:tensorflow:Running local_init_op.\n",
      "INFO:tensorflow:Done running local_init_op.\n",
      "INFO:spleeter:File separated_output/WhatsApp Audio 2025-02-01 at 15.10.28_26a775f6/vocals.wav written succesfully\n",
      "INFO:spleeter:File separated_output/WhatsApp Audio 2025-02-01 at 15.10.28_26a775f6/drums.wav written succesfully\n",
      "INFO:spleeter:File separated_output/WhatsApp Audio 2025-02-01 at 15.10.28_26a775f6/bass.wav written succesfully\n",
      "INFO:spleeter:File separated_output/WhatsApp Audio 2025-02-01 at 15.10.28_26a775f6/other.wav written succesfully\n"
     ]
    }
   ],
   "source": [
    "from spleeter.separator import Separator\n",
    "import os\n",
    "\n",
    "# Create a directory for output\n",
    "output_path = \"separated_output\"\n",
    "if not os.path.exists(output_path):\n",
    "    os.makedirs(output_path)\n",
    "\n",
    "# Create a separator object with the desired model\n",
    "separator = Separator('spleeter:4stems')\n",
    "\n",
    "# Separate the audio file\n",
    "separator.separate_to_file(\n",
    "    'WhatsApp Audio 2025-02-01 at 15.10.28_26a775f6.mp3',\n",
    "    output_path,\n",
    "    codec='wav'\n",
    ")"
   ]
  },
  {
   "cell_type": "code",
   "execution_count": 2,
   "metadata": {},
   "outputs": [
    {
     "name": "stdout",
     "output_type": "stream",
     "text": [
      "Usage: spleeter separate [OPTIONS] FILES...\n",
      "Try 'spleeter separate --help' for help.\n",
      "\n",
      "Error: Missing argument 'FILES...'.\n"
     ]
    }
   ],
   "source": [
    "\n",
    "!spleeter separate -i \"WhatsApp Audio 2025-02-01 at 15.10.28_28636545.mp3\" -p spleeter:4stems -o spleeter_output\n"
   ]
  }
 ],
 "metadata": {
  "kernelspec": {
   "display_name": "Python 3",
   "language": "python",
   "name": "python3"
  },
  "language_info": {
   "codemirror_mode": {
    "name": "ipython",
    "version": 3
   },
   "file_extension": ".py",
   "mimetype": "text/x-python",
   "name": "python",
   "nbconvert_exporter": "python",
   "pygments_lexer": "ipython3",
   "version": "3.10.12"
  }
 },
 "nbformat": 4,
 "nbformat_minor": 2
}
